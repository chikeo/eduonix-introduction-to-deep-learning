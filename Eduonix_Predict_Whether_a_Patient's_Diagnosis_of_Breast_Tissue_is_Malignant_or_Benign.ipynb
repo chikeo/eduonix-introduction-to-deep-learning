{
  "nbformat": 4,
  "nbformat_minor": 0,
  "metadata": {
    "colab": {
      "name": "Eduonix Predict Whether a Patient's Diagnosis of Breast Tissue is Malignant or Benign.ipynb",
      "provenance": []
    },
    "kernelspec": {
      "name": "python3",
      "display_name": "Python 3"
    }
  },
  "cells": [
    {
      "cell_type": "code",
      "metadata": {
        "id": "NKHIRPbfaE26",
        "colab_type": "code",
        "colab": {
          "base_uri": "https://localhost:8080/",
          "height": 153
        },
        "outputId": "f06900f7-c85e-4fc9-c329-75e75c72c990"
      },
      "source": [
        "pip install --upgrade pip"
      ],
      "execution_count": 1,
      "outputs": [
        {
          "output_type": "stream",
          "text": [
            "Collecting pip\n",
            "\u001b[?25l  Downloading https://files.pythonhosted.org/packages/36/74/38c2410d688ac7b48afa07d413674afc1f903c1c1f854de51dc8eb2367a5/pip-20.2-py2.py3-none-any.whl (1.5MB)\n",
            "\u001b[K     |████████████████████████████████| 1.5MB 2.7MB/s \n",
            "\u001b[?25hInstalling collected packages: pip\n",
            "  Found existing installation: pip 19.3.1\n",
            "    Uninstalling pip-19.3.1:\n",
            "      Successfully uninstalled pip-19.3.1\n",
            "Successfully installed pip-20.2\n"
          ],
          "name": "stdout"
        }
      ]
    },
    {
      "cell_type": "code",
      "metadata": {
        "id": "fIF9Ypfran3A",
        "colab_type": "code",
        "colab": {
          "base_uri": "https://localhost:8080/",
          "height": 34
        },
        "outputId": "1b5817f5-0b75-434c-d344-738c84367918"
      },
      "source": [
        "import tensorflow as tf\n",
        "print(tf.__version__)"
      ],
      "execution_count": 2,
      "outputs": [
        {
          "output_type": "stream",
          "text": [
            "2.2.0\n"
          ],
          "name": "stdout"
        }
      ]
    },
    {
      "cell_type": "code",
      "metadata": {
        "id": "ylAT5F4Pa30z",
        "colab_type": "code",
        "colab": {}
      },
      "source": [
        "from sklearn.datasets import load_breast_cancer"
      ],
      "execution_count": 3,
      "outputs": []
    },
    {
      "cell_type": "code",
      "metadata": {
        "id": "ikwYC6o5bOHe",
        "colab_type": "code",
        "colab": {}
      },
      "source": [
        "data = load_breast_cancer()"
      ],
      "execution_count": 4,
      "outputs": []
    },
    {
      "cell_type": "code",
      "metadata": {
        "id": "Fd9lf3axbhdn",
        "colab_type": "code",
        "colab": {
          "base_uri": "https://localhost:8080/",
          "height": 34
        },
        "outputId": "d83e00ee-4f05-4565-8634-35faa6993464"
      },
      "source": [
        "type(data)"
      ],
      "execution_count": 5,
      "outputs": [
        {
          "output_type": "execute_result",
          "data": {
            "text/plain": [
              "sklearn.utils.Bunch"
            ]
          },
          "metadata": {
            "tags": []
          },
          "execution_count": 5
        }
      ]
    },
    {
      "cell_type": "code",
      "metadata": {
        "id": "T0vuurlxbleb",
        "colab_type": "code",
        "colab": {
          "base_uri": "https://localhost:8080/",
          "height": 34
        },
        "outputId": "74099b8e-6687-413a-e074-0400999241dd"
      },
      "source": [
        "data.keys()"
      ],
      "execution_count": 6,
      "outputs": [
        {
          "output_type": "execute_result",
          "data": {
            "text/plain": [
              "dict_keys(['data', 'target', 'target_names', 'DESCR', 'feature_names', 'filename'])"
            ]
          },
          "metadata": {
            "tags": []
          },
          "execution_count": 6
        }
      ]
    },
    {
      "cell_type": "code",
      "metadata": {
        "id": "wTLWM5T3by6C",
        "colab_type": "code",
        "colab": {
          "base_uri": "https://localhost:8080/",
          "height": 34
        },
        "outputId": "c8a23384-f0dd-45a0-ba78-8c3994bd8f76"
      },
      "source": [
        "data.data.shape"
      ],
      "execution_count": 7,
      "outputs": [
        {
          "output_type": "execute_result",
          "data": {
            "text/plain": [
              "(569, 30)"
            ]
          },
          "metadata": {
            "tags": []
          },
          "execution_count": 7
        }
      ]
    },
    {
      "cell_type": "code",
      "metadata": {
        "id": "4yaqEQwGckkm",
        "colab_type": "code",
        "colab": {
          "base_uri": "https://localhost:8080/",
          "height": 238
        },
        "outputId": "5ed70484-f7f4-4a33-c5c6-f88b4252ac31"
      },
      "source": [
        "data.data"
      ],
      "execution_count": 8,
      "outputs": [
        {
          "output_type": "execute_result",
          "data": {
            "text/plain": [
              "array([[1.799e+01, 1.038e+01, 1.228e+02, ..., 2.654e-01, 4.601e-01,\n",
              "        1.189e-01],\n",
              "       [2.057e+01, 1.777e+01, 1.329e+02, ..., 1.860e-01, 2.750e-01,\n",
              "        8.902e-02],\n",
              "       [1.969e+01, 2.125e+01, 1.300e+02, ..., 2.430e-01, 3.613e-01,\n",
              "        8.758e-02],\n",
              "       ...,\n",
              "       [1.660e+01, 2.808e+01, 1.083e+02, ..., 1.418e-01, 2.218e-01,\n",
              "        7.820e-02],\n",
              "       [2.060e+01, 2.933e+01, 1.401e+02, ..., 2.650e-01, 4.087e-01,\n",
              "        1.240e-01],\n",
              "       [7.760e+00, 2.454e+01, 4.792e+01, ..., 0.000e+00, 2.871e-01,\n",
              "        7.039e-02]])"
            ]
          },
          "metadata": {
            "tags": []
          },
          "execution_count": 8
        }
      ]
    },
    {
      "cell_type": "code",
      "metadata": {
        "id": "CBfGaGtZc4x1",
        "colab_type": "code",
        "colab": {
          "base_uri": "https://localhost:8080/",
          "height": 459
        },
        "outputId": "b3a4e797-b835-4267-9631-a33355e9ea96"
      },
      "source": [
        "data.target"
      ],
      "execution_count": 9,
      "outputs": [
        {
          "output_type": "execute_result",
          "data": {
            "text/plain": [
              "array([0, 0, 0, 0, 0, 0, 0, 0, 0, 0, 0, 0, 0, 0, 0, 0, 0, 0, 0, 1, 1, 1,\n",
              "       0, 0, 0, 0, 0, 0, 0, 0, 0, 0, 0, 0, 0, 0, 0, 1, 0, 0, 0, 0, 0, 0,\n",
              "       0, 0, 1, 0, 1, 1, 1, 1, 1, 0, 0, 1, 0, 0, 1, 1, 1, 1, 0, 1, 0, 0,\n",
              "       1, 1, 1, 1, 0, 1, 0, 0, 1, 0, 1, 0, 0, 1, 1, 1, 0, 0, 1, 0, 0, 0,\n",
              "       1, 1, 1, 0, 1, 1, 0, 0, 1, 1, 1, 0, 0, 1, 1, 1, 1, 0, 1, 1, 0, 1,\n",
              "       1, 1, 1, 1, 1, 1, 1, 0, 0, 0, 1, 0, 0, 1, 1, 1, 0, 0, 1, 0, 1, 0,\n",
              "       0, 1, 0, 0, 1, 1, 0, 1, 1, 0, 1, 1, 1, 1, 0, 1, 1, 1, 1, 1, 1, 1,\n",
              "       1, 1, 0, 1, 1, 1, 1, 0, 0, 1, 0, 1, 1, 0, 0, 1, 1, 0, 0, 1, 1, 1,\n",
              "       1, 0, 1, 1, 0, 0, 0, 1, 0, 1, 0, 1, 1, 1, 0, 1, 1, 0, 0, 1, 0, 0,\n",
              "       0, 0, 1, 0, 0, 0, 1, 0, 1, 0, 1, 1, 0, 1, 0, 0, 0, 0, 1, 1, 0, 0,\n",
              "       1, 1, 1, 0, 1, 1, 1, 1, 1, 0, 0, 1, 1, 0, 1, 1, 0, 0, 1, 0, 1, 1,\n",
              "       1, 1, 0, 1, 1, 1, 1, 1, 0, 1, 0, 0, 0, 0, 0, 0, 0, 0, 0, 0, 0, 0,\n",
              "       0, 0, 1, 1, 1, 1, 1, 1, 0, 1, 0, 1, 1, 0, 1, 1, 0, 1, 0, 0, 1, 1,\n",
              "       1, 1, 1, 1, 1, 1, 1, 1, 1, 1, 1, 0, 1, 1, 0, 1, 0, 1, 1, 1, 1, 1,\n",
              "       1, 1, 1, 1, 1, 1, 1, 1, 1, 0, 1, 1, 1, 0, 1, 0, 1, 1, 1, 1, 0, 0,\n",
              "       0, 1, 1, 1, 1, 0, 1, 0, 1, 0, 1, 1, 1, 0, 1, 1, 1, 1, 1, 1, 1, 0,\n",
              "       0, 0, 1, 1, 1, 1, 1, 1, 1, 1, 1, 1, 1, 0, 0, 1, 0, 0, 0, 1, 0, 0,\n",
              "       1, 1, 1, 1, 1, 0, 1, 1, 1, 1, 1, 0, 1, 1, 1, 0, 1, 1, 0, 0, 1, 1,\n",
              "       1, 1, 1, 1, 0, 1, 1, 1, 1, 1, 1, 1, 0, 1, 1, 1, 1, 1, 0, 1, 1, 0,\n",
              "       1, 1, 1, 1, 1, 1, 1, 1, 1, 1, 1, 1, 0, 1, 0, 0, 1, 0, 1, 1, 1, 1,\n",
              "       1, 0, 1, 1, 0, 1, 0, 1, 1, 0, 1, 0, 1, 1, 1, 1, 1, 1, 1, 1, 0, 0,\n",
              "       1, 1, 1, 1, 1, 1, 0, 1, 1, 1, 1, 1, 1, 1, 1, 1, 1, 0, 1, 1, 1, 1,\n",
              "       1, 1, 1, 0, 1, 0, 1, 1, 0, 1, 1, 1, 1, 1, 0, 0, 1, 0, 1, 0, 1, 1,\n",
              "       1, 1, 1, 0, 1, 1, 0, 1, 0, 1, 0, 0, 1, 1, 1, 0, 1, 1, 1, 1, 1, 1,\n",
              "       1, 1, 1, 1, 1, 0, 1, 0, 0, 1, 1, 1, 1, 1, 1, 1, 1, 1, 1, 1, 1, 1,\n",
              "       1, 1, 1, 1, 1, 1, 1, 1, 1, 1, 1, 1, 0, 0, 0, 0, 0, 0, 1])"
            ]
          },
          "metadata": {
            "tags": []
          },
          "execution_count": 9
        }
      ]
    },
    {
      "cell_type": "code",
      "metadata": {
        "id": "zA83VOTBdQ7W",
        "colab_type": "code",
        "colab": {
          "base_uri": "https://localhost:8080/",
          "height": 34
        },
        "outputId": "1d9f3f01-b71f-41c3-d9f0-39732adf3d51"
      },
      "source": [
        "data.target_names"
      ],
      "execution_count": 10,
      "outputs": [
        {
          "output_type": "execute_result",
          "data": {
            "text/plain": [
              "array(['malignant', 'benign'], dtype='<U9')"
            ]
          },
          "metadata": {
            "tags": []
          },
          "execution_count": 10
        }
      ]
    },
    {
      "cell_type": "code",
      "metadata": {
        "id": "Q-lLw6AndkvO",
        "colab_type": "code",
        "colab": {
          "base_uri": "https://localhost:8080/",
          "height": 34
        },
        "outputId": "a3b884f1-a16a-4bd0-a6d5-5347d5ed0187"
      },
      "source": [
        "data.target.shape"
      ],
      "execution_count": 11,
      "outputs": [
        {
          "output_type": "execute_result",
          "data": {
            "text/plain": [
              "(569,)"
            ]
          },
          "metadata": {
            "tags": []
          },
          "execution_count": 11
        }
      ]
    },
    {
      "cell_type": "code",
      "metadata": {
        "id": "UvOpCnN-drjW",
        "colab_type": "code",
        "colab": {
          "base_uri": "https://localhost:8080/",
          "height": 187
        },
        "outputId": "9226b214-78d3-424c-db54-5bd2d25274d9"
      },
      "source": [
        "data.feature_names"
      ],
      "execution_count": 12,
      "outputs": [
        {
          "output_type": "execute_result",
          "data": {
            "text/plain": [
              "array(['mean radius', 'mean texture', 'mean perimeter', 'mean area',\n",
              "       'mean smoothness', 'mean compactness', 'mean concavity',\n",
              "       'mean concave points', 'mean symmetry', 'mean fractal dimension',\n",
              "       'radius error', 'texture error', 'perimeter error', 'area error',\n",
              "       'smoothness error', 'compactness error', 'concavity error',\n",
              "       'concave points error', 'symmetry error',\n",
              "       'fractal dimension error', 'worst radius', 'worst texture',\n",
              "       'worst perimeter', 'worst area', 'worst smoothness',\n",
              "       'worst compactness', 'worst concavity', 'worst concave points',\n",
              "       'worst symmetry', 'worst fractal dimension'], dtype='<U23')"
            ]
          },
          "metadata": {
            "tags": []
          },
          "execution_count": 12
        }
      ]
    },
    {
      "cell_type": "code",
      "metadata": {
        "id": "bkC8ZCK_dwhX",
        "colab_type": "code",
        "colab": {}
      },
      "source": [
        "from sklearn.model_selection import train_test_split\n",
        "\n",
        "X_train, X_test, y_train, y_test = train_test_split(data.data, data.target, test_size=0.33)"
      ],
      "execution_count": 13,
      "outputs": []
    },
    {
      "cell_type": "code",
      "metadata": {
        "id": "fB_lzpl6wLvV",
        "colab_type": "code",
        "colab": {
          "base_uri": "https://localhost:8080/",
          "height": 34
        },
        "outputId": "78a7c689-d81f-4768-d522-a3a30a013dc1"
      },
      "source": [
        "X_train.shape"
      ],
      "execution_count": 14,
      "outputs": [
        {
          "output_type": "execute_result",
          "data": {
            "text/plain": [
              "(381, 30)"
            ]
          },
          "metadata": {
            "tags": []
          },
          "execution_count": 14
        }
      ]
    },
    {
      "cell_type": "code",
      "metadata": {
        "id": "HRdC8gm1wtw0",
        "colab_type": "code",
        "colab": {}
      },
      "source": [
        "N, D = X_train.shape"
      ],
      "execution_count": 15,
      "outputs": []
    },
    {
      "cell_type": "code",
      "metadata": {
        "id": "XjGGNzkZw57T",
        "colab_type": "code",
        "colab": {
          "base_uri": "https://localhost:8080/",
          "height": 34
        },
        "outputId": "1036ac91-45c2-463f-b9e9-c9b128ec389a"
      },
      "source": [
        "print(N, D)"
      ],
      "execution_count": 16,
      "outputs": [
        {
          "output_type": "stream",
          "text": [
            "381 30\n"
          ],
          "name": "stdout"
        }
      ]
    },
    {
      "cell_type": "code",
      "metadata": {
        "id": "Qr17dtdPw8Z7",
        "colab_type": "code",
        "colab": {
          "base_uri": "https://localhost:8080/",
          "height": 34
        },
        "outputId": "8fd4bb8b-7088-4089-8792-6f9e7a5f05c9"
      },
      "source": [
        "y_train.shape"
      ],
      "execution_count": 17,
      "outputs": [
        {
          "output_type": "execute_result",
          "data": {
            "text/plain": [
              "(381,)"
            ]
          },
          "metadata": {
            "tags": []
          },
          "execution_count": 17
        }
      ]
    },
    {
      "cell_type": "code",
      "metadata": {
        "id": "GevSF48zxqa6",
        "colab_type": "code",
        "colab": {
          "base_uri": "https://localhost:8080/",
          "height": 34
        },
        "outputId": "5cb8bda6-9ab0-4a5b-9fca-bf0d5bcd00ed"
      },
      "source": [
        "X_train.shape"
      ],
      "execution_count": 18,
      "outputs": [
        {
          "output_type": "execute_result",
          "data": {
            "text/plain": [
              "(381, 30)"
            ]
          },
          "metadata": {
            "tags": []
          },
          "execution_count": 18
        }
      ]
    },
    {
      "cell_type": "code",
      "metadata": {
        "id": "rs9UEOC8x57K",
        "colab_type": "code",
        "colab": {
          "base_uri": "https://localhost:8080/",
          "height": 34
        },
        "outputId": "47abdf3b-c0cc-4740-b98b-1dca4012cf46"
      },
      "source": [
        "X_test.shape"
      ],
      "execution_count": 19,
      "outputs": [
        {
          "output_type": "execute_result",
          "data": {
            "text/plain": [
              "(188, 30)"
            ]
          },
          "metadata": {
            "tags": []
          },
          "execution_count": 19
        }
      ]
    },
    {
      "cell_type": "code",
      "metadata": {
        "id": "rada3evFx-F0",
        "colab_type": "code",
        "colab": {
          "base_uri": "https://localhost:8080/",
          "height": 34
        },
        "outputId": "7583193b-7120-4e12-fc5d-94261f45f031"
      },
      "source": [
        "y_test.shape"
      ],
      "execution_count": 20,
      "outputs": [
        {
          "output_type": "execute_result",
          "data": {
            "text/plain": [
              "(188,)"
            ]
          },
          "metadata": {
            "tags": []
          },
          "execution_count": 20
        }
      ]
    },
    {
      "cell_type": "code",
      "metadata": {
        "id": "F1r4d5gSyBFO",
        "colab_type": "code",
        "colab": {}
      },
      "source": [
        "from sklearn.preprocessing import StandardScaler"
      ],
      "execution_count": 21,
      "outputs": []
    },
    {
      "cell_type": "code",
      "metadata": {
        "id": "cVw-it5dy1tH",
        "colab_type": "code",
        "colab": {}
      },
      "source": [
        "scaler = StandardScaler()\n",
        "X_train = scaler.fit_transform(X_train)\n",
        "X_test = scaler.transform(X_test)"
      ],
      "execution_count": 22,
      "outputs": []
    },
    {
      "cell_type": "code",
      "metadata": {
        "id": "YnH9n2iTzOWo",
        "colab_type": "code",
        "colab": {}
      },
      "source": [
        "model = tf.keras.models.Sequential()\n",
        "model.add(tf.keras.layers.Dense(1, input_shape=(D,), activation='sigmoid'))"
      ],
      "execution_count": 23,
      "outputs": []
    },
    {
      "cell_type": "code",
      "metadata": {
        "id": "QT1obC8Wzegg",
        "colab_type": "code",
        "colab": {}
      },
      "source": [
        "model.compile(optimizer='adam',\n",
        "              loss='binary_crossentropy',\n",
        "              metrics=['accuracy']\n",
        ")"
      ],
      "execution_count": 24,
      "outputs": []
    },
    {
      "cell_type": "code",
      "metadata": {
        "id": "V_-z-wAz10gy",
        "colab_type": "code",
        "colab": {
          "base_uri": "https://localhost:8080/",
          "height": 1000
        },
        "outputId": "3906c32a-1909-4c55-8ee3-4443c4a7af60"
      },
      "source": [
        "r = model.fit(X_train, y_train, validation_data=(X_test, y_test), epochs=100)"
      ],
      "execution_count": 25,
      "outputs": [
        {
          "output_type": "stream",
          "text": [
            "Epoch 1/100\n",
            "12/12 [==============================] - 0s 16ms/step - loss: 0.5831 - accuracy: 0.7375 - val_loss: 0.5889 - val_accuracy: 0.7340\n",
            "Epoch 2/100\n",
            "12/12 [==============================] - 0s 6ms/step - loss: 0.5307 - accuracy: 0.7717 - val_loss: 0.5406 - val_accuracy: 0.7660\n",
            "Epoch 3/100\n",
            "12/12 [==============================] - 0s 4ms/step - loss: 0.4874 - accuracy: 0.8163 - val_loss: 0.4990 - val_accuracy: 0.7979\n",
            "Epoch 4/100\n",
            "12/12 [==============================] - 0s 5ms/step - loss: 0.4490 - accuracy: 0.8373 - val_loss: 0.4650 - val_accuracy: 0.8085\n",
            "Epoch 5/100\n",
            "12/12 [==============================] - 0s 5ms/step - loss: 0.4172 - accuracy: 0.8478 - val_loss: 0.4358 - val_accuracy: 0.8511\n",
            "Epoch 6/100\n",
            "12/12 [==============================] - 0s 4ms/step - loss: 0.3901 - accuracy: 0.8714 - val_loss: 0.4108 - val_accuracy: 0.8564\n",
            "Epoch 7/100\n",
            "12/12 [==============================] - 0s 4ms/step - loss: 0.3668 - accuracy: 0.8845 - val_loss: 0.3891 - val_accuracy: 0.8564\n",
            "Epoch 8/100\n",
            "12/12 [==============================] - 0s 5ms/step - loss: 0.3463 - accuracy: 0.8898 - val_loss: 0.3700 - val_accuracy: 0.8617\n",
            "Epoch 9/100\n",
            "12/12 [==============================] - 0s 4ms/step - loss: 0.3286 - accuracy: 0.8976 - val_loss: 0.3530 - val_accuracy: 0.8670\n",
            "Epoch 10/100\n",
            "12/12 [==============================] - 0s 4ms/step - loss: 0.3125 - accuracy: 0.9003 - val_loss: 0.3376 - val_accuracy: 0.8777\n",
            "Epoch 11/100\n",
            "12/12 [==============================] - 0s 5ms/step - loss: 0.2982 - accuracy: 0.9108 - val_loss: 0.3240 - val_accuracy: 0.8883\n",
            "Epoch 12/100\n",
            "12/12 [==============================] - 0s 5ms/step - loss: 0.2855 - accuracy: 0.9108 - val_loss: 0.3114 - val_accuracy: 0.8936\n",
            "Epoch 13/100\n",
            "12/12 [==============================] - 0s 5ms/step - loss: 0.2738 - accuracy: 0.9108 - val_loss: 0.3003 - val_accuracy: 0.8989\n",
            "Epoch 14/100\n",
            "12/12 [==============================] - 0s 4ms/step - loss: 0.2635 - accuracy: 0.9160 - val_loss: 0.2899 - val_accuracy: 0.8989\n",
            "Epoch 15/100\n",
            "12/12 [==============================] - 0s 5ms/step - loss: 0.2538 - accuracy: 0.9186 - val_loss: 0.2802 - val_accuracy: 0.9043\n",
            "Epoch 16/100\n",
            "12/12 [==============================] - 0s 4ms/step - loss: 0.2450 - accuracy: 0.9213 - val_loss: 0.2714 - val_accuracy: 0.9043\n",
            "Epoch 17/100\n",
            "12/12 [==============================] - 0s 4ms/step - loss: 0.2370 - accuracy: 0.9265 - val_loss: 0.2633 - val_accuracy: 0.9043\n",
            "Epoch 18/100\n",
            "12/12 [==============================] - 0s 5ms/step - loss: 0.2296 - accuracy: 0.9291 - val_loss: 0.2557 - val_accuracy: 0.9043\n",
            "Epoch 19/100\n",
            "12/12 [==============================] - 0s 4ms/step - loss: 0.2227 - accuracy: 0.9318 - val_loss: 0.2486 - val_accuracy: 0.9096\n",
            "Epoch 20/100\n",
            "12/12 [==============================] - 0s 4ms/step - loss: 0.2163 - accuracy: 0.9370 - val_loss: 0.2420 - val_accuracy: 0.9149\n",
            "Epoch 21/100\n",
            "12/12 [==============================] - 0s 5ms/step - loss: 0.2105 - accuracy: 0.9423 - val_loss: 0.2357 - val_accuracy: 0.9309\n",
            "Epoch 22/100\n",
            "12/12 [==============================] - 0s 5ms/step - loss: 0.2049 - accuracy: 0.9423 - val_loss: 0.2300 - val_accuracy: 0.9309\n",
            "Epoch 23/100\n",
            "12/12 [==============================] - 0s 5ms/step - loss: 0.1998 - accuracy: 0.9423 - val_loss: 0.2246 - val_accuracy: 0.9415\n",
            "Epoch 24/100\n",
            "12/12 [==============================] - 0s 4ms/step - loss: 0.1949 - accuracy: 0.9423 - val_loss: 0.2196 - val_accuracy: 0.9362\n",
            "Epoch 25/100\n",
            "12/12 [==============================] - 0s 5ms/step - loss: 0.1905 - accuracy: 0.9501 - val_loss: 0.2147 - val_accuracy: 0.9362\n",
            "Epoch 26/100\n",
            "12/12 [==============================] - 0s 4ms/step - loss: 0.1862 - accuracy: 0.9528 - val_loss: 0.2101 - val_accuracy: 0.9362\n",
            "Epoch 27/100\n",
            "12/12 [==============================] - 0s 4ms/step - loss: 0.1822 - accuracy: 0.9528 - val_loss: 0.2059 - val_accuracy: 0.9415\n",
            "Epoch 28/100\n",
            "12/12 [==============================] - 0s 4ms/step - loss: 0.1784 - accuracy: 0.9528 - val_loss: 0.2020 - val_accuracy: 0.9415\n",
            "Epoch 29/100\n",
            "12/12 [==============================] - 0s 5ms/step - loss: 0.1749 - accuracy: 0.9528 - val_loss: 0.1979 - val_accuracy: 0.9468\n",
            "Epoch 30/100\n",
            "12/12 [==============================] - 0s 5ms/step - loss: 0.1715 - accuracy: 0.9528 - val_loss: 0.1942 - val_accuracy: 0.9468\n",
            "Epoch 31/100\n",
            "12/12 [==============================] - 0s 5ms/step - loss: 0.1683 - accuracy: 0.9528 - val_loss: 0.1906 - val_accuracy: 0.9468\n",
            "Epoch 32/100\n",
            "12/12 [==============================] - 0s 5ms/step - loss: 0.1652 - accuracy: 0.9528 - val_loss: 0.1874 - val_accuracy: 0.9468\n",
            "Epoch 33/100\n",
            "12/12 [==============================] - 0s 5ms/step - loss: 0.1624 - accuracy: 0.9528 - val_loss: 0.1840 - val_accuracy: 0.9468\n",
            "Epoch 34/100\n",
            "12/12 [==============================] - 0s 5ms/step - loss: 0.1597 - accuracy: 0.9528 - val_loss: 0.1809 - val_accuracy: 0.9468\n",
            "Epoch 35/100\n",
            "12/12 [==============================] - 0s 6ms/step - loss: 0.1570 - accuracy: 0.9528 - val_loss: 0.1782 - val_accuracy: 0.9468\n",
            "Epoch 36/100\n",
            "12/12 [==============================] - 0s 5ms/step - loss: 0.1546 - accuracy: 0.9554 - val_loss: 0.1751 - val_accuracy: 0.9415\n",
            "Epoch 37/100\n",
            "12/12 [==============================] - 0s 5ms/step - loss: 0.1522 - accuracy: 0.9554 - val_loss: 0.1724 - val_accuracy: 0.9415\n",
            "Epoch 38/100\n",
            "12/12 [==============================] - 0s 4ms/step - loss: 0.1499 - accuracy: 0.9554 - val_loss: 0.1699 - val_accuracy: 0.9415\n",
            "Epoch 39/100\n",
            "12/12 [==============================] - 0s 4ms/step - loss: 0.1477 - accuracy: 0.9580 - val_loss: 0.1675 - val_accuracy: 0.9415\n",
            "Epoch 40/100\n",
            "12/12 [==============================] - 0s 4ms/step - loss: 0.1456 - accuracy: 0.9580 - val_loss: 0.1651 - val_accuracy: 0.9415\n",
            "Epoch 41/100\n",
            "12/12 [==============================] - 0s 5ms/step - loss: 0.1437 - accuracy: 0.9580 - val_loss: 0.1628 - val_accuracy: 0.9415\n",
            "Epoch 42/100\n",
            "12/12 [==============================] - 0s 4ms/step - loss: 0.1418 - accuracy: 0.9580 - val_loss: 0.1606 - val_accuracy: 0.9415\n",
            "Epoch 43/100\n",
            "12/12 [==============================] - 0s 4ms/step - loss: 0.1399 - accuracy: 0.9580 - val_loss: 0.1585 - val_accuracy: 0.9415\n",
            "Epoch 44/100\n",
            "12/12 [==============================] - 0s 5ms/step - loss: 0.1381 - accuracy: 0.9580 - val_loss: 0.1565 - val_accuracy: 0.9415\n",
            "Epoch 45/100\n",
            "12/12 [==============================] - 0s 4ms/step - loss: 0.1364 - accuracy: 0.9580 - val_loss: 0.1547 - val_accuracy: 0.9415\n",
            "Epoch 46/100\n",
            "12/12 [==============================] - 0s 4ms/step - loss: 0.1348 - accuracy: 0.9606 - val_loss: 0.1527 - val_accuracy: 0.9521\n",
            "Epoch 47/100\n",
            "12/12 [==============================] - 0s 5ms/step - loss: 0.1332 - accuracy: 0.9633 - val_loss: 0.1509 - val_accuracy: 0.9521\n",
            "Epoch 48/100\n",
            "12/12 [==============================] - 0s 5ms/step - loss: 0.1317 - accuracy: 0.9633 - val_loss: 0.1490 - val_accuracy: 0.9521\n",
            "Epoch 49/100\n",
            "12/12 [==============================] - 0s 4ms/step - loss: 0.1302 - accuracy: 0.9633 - val_loss: 0.1475 - val_accuracy: 0.9521\n",
            "Epoch 50/100\n",
            "12/12 [==============================] - 0s 5ms/step - loss: 0.1288 - accuracy: 0.9633 - val_loss: 0.1458 - val_accuracy: 0.9521\n",
            "Epoch 51/100\n",
            "12/12 [==============================] - 0s 5ms/step - loss: 0.1274 - accuracy: 0.9659 - val_loss: 0.1443 - val_accuracy: 0.9521\n",
            "Epoch 52/100\n",
            "12/12 [==============================] - 0s 5ms/step - loss: 0.1261 - accuracy: 0.9659 - val_loss: 0.1428 - val_accuracy: 0.9521\n",
            "Epoch 53/100\n",
            "12/12 [==============================] - 0s 5ms/step - loss: 0.1248 - accuracy: 0.9659 - val_loss: 0.1413 - val_accuracy: 0.9521\n",
            "Epoch 54/100\n",
            "12/12 [==============================] - 0s 5ms/step - loss: 0.1235 - accuracy: 0.9659 - val_loss: 0.1398 - val_accuracy: 0.9521\n",
            "Epoch 55/100\n",
            "12/12 [==============================] - 0s 5ms/step - loss: 0.1223 - accuracy: 0.9659 - val_loss: 0.1384 - val_accuracy: 0.9574\n",
            "Epoch 56/100\n",
            "12/12 [==============================] - 0s 5ms/step - loss: 0.1211 - accuracy: 0.9685 - val_loss: 0.1370 - val_accuracy: 0.9574\n",
            "Epoch 57/100\n",
            "12/12 [==============================] - 0s 5ms/step - loss: 0.1200 - accuracy: 0.9685 - val_loss: 0.1357 - val_accuracy: 0.9574\n",
            "Epoch 58/100\n",
            "12/12 [==============================] - 0s 5ms/step - loss: 0.1189 - accuracy: 0.9685 - val_loss: 0.1345 - val_accuracy: 0.9574\n",
            "Epoch 59/100\n",
            "12/12 [==============================] - 0s 5ms/step - loss: 0.1178 - accuracy: 0.9685 - val_loss: 0.1333 - val_accuracy: 0.9574\n",
            "Epoch 60/100\n",
            "12/12 [==============================] - 0s 5ms/step - loss: 0.1168 - accuracy: 0.9685 - val_loss: 0.1320 - val_accuracy: 0.9574\n",
            "Epoch 61/100\n",
            "12/12 [==============================] - 0s 5ms/step - loss: 0.1158 - accuracy: 0.9711 - val_loss: 0.1308 - val_accuracy: 0.9628\n",
            "Epoch 62/100\n",
            "12/12 [==============================] - 0s 5ms/step - loss: 0.1148 - accuracy: 0.9738 - val_loss: 0.1297 - val_accuracy: 0.9628\n",
            "Epoch 63/100\n",
            "12/12 [==============================] - 0s 4ms/step - loss: 0.1138 - accuracy: 0.9738 - val_loss: 0.1286 - val_accuracy: 0.9628\n",
            "Epoch 64/100\n",
            "12/12 [==============================] - 0s 4ms/step - loss: 0.1129 - accuracy: 0.9738 - val_loss: 0.1276 - val_accuracy: 0.9628\n",
            "Epoch 65/100\n",
            "12/12 [==============================] - 0s 5ms/step - loss: 0.1120 - accuracy: 0.9764 - val_loss: 0.1266 - val_accuracy: 0.9628\n",
            "Epoch 66/100\n",
            "12/12 [==============================] - 0s 5ms/step - loss: 0.1111 - accuracy: 0.9764 - val_loss: 0.1255 - val_accuracy: 0.9681\n",
            "Epoch 67/100\n",
            "12/12 [==============================] - 0s 5ms/step - loss: 0.1102 - accuracy: 0.9764 - val_loss: 0.1246 - val_accuracy: 0.9681\n",
            "Epoch 68/100\n",
            "12/12 [==============================] - 0s 5ms/step - loss: 0.1094 - accuracy: 0.9790 - val_loss: 0.1236 - val_accuracy: 0.9681\n",
            "Epoch 69/100\n",
            "12/12 [==============================] - 0s 5ms/step - loss: 0.1085 - accuracy: 0.9816 - val_loss: 0.1226 - val_accuracy: 0.9681\n",
            "Epoch 70/100\n",
            "12/12 [==============================] - 0s 5ms/step - loss: 0.1077 - accuracy: 0.9816 - val_loss: 0.1217 - val_accuracy: 0.9681\n",
            "Epoch 71/100\n",
            "12/12 [==============================] - 0s 5ms/step - loss: 0.1069 - accuracy: 0.9816 - val_loss: 0.1209 - val_accuracy: 0.9681\n",
            "Epoch 72/100\n",
            "12/12 [==============================] - 0s 4ms/step - loss: 0.1062 - accuracy: 0.9816 - val_loss: 0.1199 - val_accuracy: 0.9681\n",
            "Epoch 73/100\n",
            "12/12 [==============================] - 0s 5ms/step - loss: 0.1055 - accuracy: 0.9816 - val_loss: 0.1190 - val_accuracy: 0.9681\n",
            "Epoch 74/100\n",
            "12/12 [==============================] - 0s 5ms/step - loss: 0.1047 - accuracy: 0.9816 - val_loss: 0.1182 - val_accuracy: 0.9681\n",
            "Epoch 75/100\n",
            "12/12 [==============================] - 0s 4ms/step - loss: 0.1040 - accuracy: 0.9816 - val_loss: 0.1175 - val_accuracy: 0.9681\n",
            "Epoch 76/100\n",
            "12/12 [==============================] - 0s 4ms/step - loss: 0.1033 - accuracy: 0.9816 - val_loss: 0.1167 - val_accuracy: 0.9681\n",
            "Epoch 77/100\n",
            "12/12 [==============================] - 0s 5ms/step - loss: 0.1026 - accuracy: 0.9816 - val_loss: 0.1159 - val_accuracy: 0.9681\n",
            "Epoch 78/100\n",
            "12/12 [==============================] - 0s 5ms/step - loss: 0.1019 - accuracy: 0.9843 - val_loss: 0.1152 - val_accuracy: 0.9681\n",
            "Epoch 79/100\n",
            "12/12 [==============================] - 0s 4ms/step - loss: 0.1013 - accuracy: 0.9843 - val_loss: 0.1145 - val_accuracy: 0.9681\n",
            "Epoch 80/100\n",
            "12/12 [==============================] - 0s 4ms/step - loss: 0.1006 - accuracy: 0.9843 - val_loss: 0.1137 - val_accuracy: 0.9681\n",
            "Epoch 81/100\n",
            "12/12 [==============================] - 0s 5ms/step - loss: 0.1000 - accuracy: 0.9843 - val_loss: 0.1130 - val_accuracy: 0.9734\n",
            "Epoch 82/100\n",
            "12/12 [==============================] - 0s 4ms/step - loss: 0.0994 - accuracy: 0.9843 - val_loss: 0.1122 - val_accuracy: 0.9734\n",
            "Epoch 83/100\n",
            "12/12 [==============================] - 0s 4ms/step - loss: 0.0987 - accuracy: 0.9843 - val_loss: 0.1116 - val_accuracy: 0.9734\n",
            "Epoch 84/100\n",
            "12/12 [==============================] - 0s 5ms/step - loss: 0.0982 - accuracy: 0.9843 - val_loss: 0.1110 - val_accuracy: 0.9734\n",
            "Epoch 85/100\n",
            "12/12 [==============================] - 0s 5ms/step - loss: 0.0976 - accuracy: 0.9843 - val_loss: 0.1103 - val_accuracy: 0.9734\n",
            "Epoch 86/100\n",
            "12/12 [==============================] - 0s 4ms/step - loss: 0.0970 - accuracy: 0.9843 - val_loss: 0.1097 - val_accuracy: 0.9734\n",
            "Epoch 87/100\n",
            "12/12 [==============================] - 0s 4ms/step - loss: 0.0965 - accuracy: 0.9843 - val_loss: 0.1091 - val_accuracy: 0.9734\n",
            "Epoch 88/100\n",
            "12/12 [==============================] - 0s 5ms/step - loss: 0.0959 - accuracy: 0.9843 - val_loss: 0.1085 - val_accuracy: 0.9734\n",
            "Epoch 89/100\n",
            "12/12 [==============================] - 0s 5ms/step - loss: 0.0954 - accuracy: 0.9843 - val_loss: 0.1078 - val_accuracy: 0.9734\n",
            "Epoch 90/100\n",
            "12/12 [==============================] - 0s 5ms/step - loss: 0.0948 - accuracy: 0.9843 - val_loss: 0.1073 - val_accuracy: 0.9734\n",
            "Epoch 91/100\n",
            "12/12 [==============================] - 0s 4ms/step - loss: 0.0943 - accuracy: 0.9843 - val_loss: 0.1067 - val_accuracy: 0.9734\n",
            "Epoch 92/100\n",
            "12/12 [==============================] - 0s 4ms/step - loss: 0.0938 - accuracy: 0.9843 - val_loss: 0.1062 - val_accuracy: 0.9734\n",
            "Epoch 93/100\n",
            "12/12 [==============================] - 0s 4ms/step - loss: 0.0933 - accuracy: 0.9843 - val_loss: 0.1055 - val_accuracy: 0.9734\n",
            "Epoch 94/100\n",
            "12/12 [==============================] - 0s 5ms/step - loss: 0.0928 - accuracy: 0.9843 - val_loss: 0.1051 - val_accuracy: 0.9734\n",
            "Epoch 95/100\n",
            "12/12 [==============================] - 0s 4ms/step - loss: 0.0923 - accuracy: 0.9843 - val_loss: 0.1045 - val_accuracy: 0.9734\n",
            "Epoch 96/100\n",
            "12/12 [==============================] - 0s 4ms/step - loss: 0.0918 - accuracy: 0.9843 - val_loss: 0.1040 - val_accuracy: 0.9734\n",
            "Epoch 97/100\n",
            "12/12 [==============================] - 0s 5ms/step - loss: 0.0914 - accuracy: 0.9869 - val_loss: 0.1036 - val_accuracy: 0.9734\n",
            "Epoch 98/100\n",
            "12/12 [==============================] - 0s 6ms/step - loss: 0.0909 - accuracy: 0.9869 - val_loss: 0.1031 - val_accuracy: 0.9734\n",
            "Epoch 99/100\n",
            "12/12 [==============================] - 0s 5ms/step - loss: 0.0904 - accuracy: 0.9869 - val_loss: 0.1026 - val_accuracy: 0.9734\n",
            "Epoch 100/100\n",
            "12/12 [==============================] - 0s 5ms/step - loss: 0.0900 - accuracy: 0.9869 - val_loss: 0.1022 - val_accuracy: 0.9734\n"
          ],
          "name": "stdout"
        }
      ]
    },
    {
      "cell_type": "code",
      "metadata": {
        "id": "PhimnXck2I46",
        "colab_type": "code",
        "colab": {
          "base_uri": "https://localhost:8080/",
          "height": 85
        },
        "outputId": "d17782b7-bd27-4e9b-c0d5-a17842c9cab7"
      },
      "source": [
        "print(\"Train_Score:\", model.evaluate(X_train, y_train))\n",
        "print(\"Test_Score:\", model.evaluate(X_test, y_test))"
      ],
      "execution_count": 26,
      "outputs": [
        {
          "output_type": "stream",
          "text": [
            "12/12 [==============================] - 0s 1ms/step - loss: 0.0897 - accuracy: 0.9869\n",
            "Train_Score: [0.08972097933292389, 0.9868766665458679]\n",
            "6/6 [==============================] - 0s 2ms/step - loss: 0.1022 - accuracy: 0.9734\n",
            "Test_Score: [0.10215065628290176, 0.9734042286872864]\n"
          ],
          "name": "stdout"
        }
      ]
    },
    {
      "cell_type": "code",
      "metadata": {
        "id": "oQItuNuF3Bx9",
        "colab_type": "code",
        "colab": {}
      },
      "source": [
        "import matplotlib.pyplot as plt"
      ],
      "execution_count": 27,
      "outputs": []
    },
    {
      "cell_type": "code",
      "metadata": {
        "id": "AbxeAibb3cM0",
        "colab_type": "code",
        "colab": {
          "base_uri": "https://localhost:8080/",
          "height": 312
        },
        "outputId": "d058af2f-dcd6-4791-8185-d2a25a9078fa"
      },
      "source": [
        "plt.plot(r.history['loss'], label = 'Loss')\n",
        "plt.plot(r.history['val_loss'], label=\"Val_Loss\")\n",
        "plt.title(\"Loss and Validation Loss vs Iterations\", loc='center')\n",
        "plt.xlabel(\"Loss and Validation Loss\")\n",
        "plt.ylabel(\"Iterations\")\n",
        "plt.legend()"
      ],
      "execution_count": 28,
      "outputs": [
        {
          "output_type": "execute_result",
          "data": {
            "text/plain": [
              "<matplotlib.legend.Legend at 0x7fc493e0add8>"
            ]
          },
          "metadata": {
            "tags": []
          },
          "execution_count": 28
        },
        {
          "output_type": "display_data",
          "data": {
            "image/png": "[encoded data removed]",
            "text/plain": [
              "<Figure size 432x288 with 1 Axes>"
            ]
          },
          "metadata": {
            "tags": [],
            "needs_background": "light"
          }
        }
      ]
    },
    {
      "cell_type": "code",
      "metadata": {
        "id": "TSRP6zz83luj",
        "colab_type": "code",
        "colab": {
          "base_uri": "https://localhost:8080/",
          "height": 312
        },
        "outputId": "a8687b39-f09c-40c9-96f5-fbde494cac81"
      },
      "source": [
        "plt.plot(r.history['accuracy'], label = 'Accuracy')\n",
        "plt.plot(r.history['val_accuracy'], label=\"Val_Accuracy\")\n",
        "plt.title(\"Accuracy and Validation Accuracy vs Iterations\", loc='center')\n",
        "plt.xlabel(\"Accuracy and Validation Accuracy\")\n",
        "plt.ylabel(\"Iterations\")\n",
        "plt.legend()"
      ],
      "execution_count": 29,
      "outputs": [
        {
          "output_type": "execute_result",
          "data": {
            "text/plain": [
              "<matplotlib.legend.Legend at 0x7fc49248d208>"
            ]
          },
          "metadata": {
            "tags": []
          },
          "execution_count": 29
        },
        {
          "output_type": "display_data",
          "data": {
            "image/png": "[encoded data removed]",
            "text/plain": [
              "<Figure size 432x288 with 1 Axes>"
            ]
          },
          "metadata": {
            "tags": [],
            "needs_background": "light"
          }
        }
      ]
    },
    {
      "cell_type": "code",
      "metadata": {
        "id": "_F-aLS-H5sfP",
        "colab_type": "code",
        "colab": {
          "base_uri": "https://localhost:8080/",
          "height": 1000
        },
        "outputId": "0987e97e-a180-4631-89bd-259fb75353eb"
      },
      "source": [
        "P = model.predict(X_test)\n",
        "print(P)"
      ],
      "execution_count": 30,
      "outputs": [
        {
          "output_type": "stream",
          "text": [
            "[[9.52446818e-01]\n",
            " [9.83851075e-01]\n",
            " [8.47505689e-01]\n",
            " [2.02573538e-02]\n",
            " [9.97640669e-01]\n",
            " [2.44027078e-01]\n",
            " [6.53836905e-05]\n",
            " [8.88243556e-01]\n",
            " [9.98420358e-01]\n",
            " [9.89531219e-01]\n",
            " [1.41519308e-03]\n",
            " [4.71811609e-06]\n",
            " [9.94449854e-01]\n",
            " [9.82910395e-04]\n",
            " [9.74298000e-01]\n",
            " [8.95465314e-01]\n",
            " [5.58262036e-05]\n",
            " [4.86122370e-02]\n",
            " [9.56047773e-01]\n",
            " [9.88089323e-01]\n",
            " [7.92975783e-01]\n",
            " [9.91848230e-01]\n",
            " [9.82374787e-01]\n",
            " [5.61636090e-02]\n",
            " [1.82056129e-02]\n",
            " [6.51982546e-01]\n",
            " [8.57354820e-01]\n",
            " [9.07532096e-01]\n",
            " [9.78531778e-01]\n",
            " [5.49908876e-02]\n",
            " [9.86025751e-01]\n",
            " [3.74322802e-01]\n",
            " [9.54096138e-01]\n",
            " [8.40636611e-01]\n",
            " [9.99891937e-01]\n",
            " [5.63605189e-01]\n",
            " [5.07703424e-02]\n",
            " [6.93350673e-01]\n",
            " [8.64336669e-01]\n",
            " [9.99338865e-01]\n",
            " [9.98811126e-01]\n",
            " [9.29382086e-01]\n",
            " [9.98224616e-01]\n",
            " [9.93149757e-01]\n",
            " [9.90474284e-01]\n",
            " [9.99884367e-01]\n",
            " [9.98154759e-01]\n",
            " [9.92793560e-01]\n",
            " [9.99532342e-01]\n",
            " [9.97088671e-01]\n",
            " [2.31304682e-08]\n",
            " [9.98811007e-01]\n",
            " [3.50472748e-01]\n",
            " [9.75735903e-01]\n",
            " [4.74958807e-01]\n",
            " [9.98129725e-01]\n",
            " [9.35250521e-03]\n",
            " [9.94519591e-01]\n",
            " [8.16679955e-01]\n",
            " [9.13134575e-01]\n",
            " [7.12946130e-05]\n",
            " [9.98632967e-01]\n",
            " [5.19901514e-04]\n",
            " [9.99838591e-01]\n",
            " [9.84307945e-01]\n",
            " [9.98121142e-01]\n",
            " [9.97691572e-01]\n",
            " [9.99389648e-01]\n",
            " [4.07257676e-03]\n",
            " [9.55637693e-01]\n",
            " [9.94813919e-01]\n",
            " [9.60165262e-01]\n",
            " [2.92674363e-01]\n",
            " [8.15342367e-01]\n",
            " [2.69696116e-03]\n",
            " [9.90868807e-01]\n",
            " [5.81156075e-01]\n",
            " [8.86957641e-05]\n",
            " [9.83807564e-01]\n",
            " [9.76780832e-01]\n",
            " [9.89565909e-01]\n",
            " [9.89728451e-01]\n",
            " [2.76089196e-07]\n",
            " [1.03582144e-02]\n",
            " [9.87427592e-01]\n",
            " [6.95788026e-01]\n",
            " [9.98797894e-01]\n",
            " [9.74109292e-01]\n",
            " [6.01573586e-02]\n",
            " [9.83667493e-01]\n",
            " [7.43930936e-01]\n",
            " [9.89705384e-01]\n",
            " [2.79998779e-03]\n",
            " [9.10736322e-01]\n",
            " [8.82997632e-01]\n",
            " [2.32458115e-04]\n",
            " [4.98786271e-02]\n",
            " [9.89988446e-01]\n",
            " [9.94164288e-01]\n",
            " [9.99782860e-01]\n",
            " [3.21753621e-02]\n",
            " [9.46861506e-01]\n",
            " [4.23169136e-02]\n",
            " [3.69124562e-01]\n",
            " [7.03104138e-01]\n",
            " [8.96691859e-01]\n",
            " [2.35196352e-02]\n",
            " [9.70134377e-01]\n",
            " [1.36116594e-01]\n",
            " [1.45092010e-02]\n",
            " [7.74690509e-03]\n",
            " [9.98897076e-01]\n",
            " [9.80953217e-01]\n",
            " [9.87605691e-01]\n",
            " [8.99962068e-01]\n",
            " [9.36683297e-01]\n",
            " [9.97222185e-01]\n",
            " [1.00561976e-03]\n",
            " [2.76693846e-09]\n",
            " [9.93908405e-01]\n",
            " [8.43583107e-01]\n",
            " [3.85928154e-03]\n",
            " [9.85305667e-01]\n",
            " [9.61662650e-01]\n",
            " [9.96438026e-01]\n",
            " [2.94059515e-04]\n",
            " [9.98495102e-01]\n",
            " [9.99769390e-01]\n",
            " [9.60758567e-01]\n",
            " [5.47828276e-05]\n",
            " [6.11591041e-02]\n",
            " [9.97796714e-01]\n",
            " [1.69420779e-01]\n",
            " [9.36210155e-04]\n",
            " [9.61331725e-01]\n",
            " [9.80273664e-01]\n",
            " [3.26922536e-03]\n",
            " [9.96678114e-01]\n",
            " [2.59927601e-05]\n",
            " [9.96265233e-01]\n",
            " [4.74164933e-01]\n",
            " [9.99922812e-01]\n",
            " [4.02770384e-05]\n",
            " [1.04899675e-01]\n",
            " [1.57627940e-01]\n",
            " [9.82124507e-02]\n",
            " [8.13195586e-01]\n",
            " [6.16461039e-04]\n",
            " [9.85437989e-01]\n",
            " [9.38953280e-01]\n",
            " [2.78746757e-05]\n",
            " [1.12624079e-01]\n",
            " [3.40470672e-02]\n",
            " [8.44500164e-07]\n",
            " [1.37656927e-04]\n",
            " [9.89068270e-01]\n",
            " [9.96512294e-01]\n",
            " [9.21560049e-01]\n",
            " [9.39140081e-01]\n",
            " [9.81807351e-01]\n",
            " [7.15143085e-01]\n",
            " [7.48661816e-01]\n",
            " [9.77147818e-01]\n",
            " [9.96937275e-01]\n",
            " [9.99442816e-01]\n",
            " [9.82783198e-01]\n",
            " [9.86343384e-01]\n",
            " [9.19850299e-06]\n",
            " [3.78203392e-03]\n",
            " [6.61711340e-07]\n",
            " [9.88987207e-01]\n",
            " [9.95973349e-01]\n",
            " [9.86923695e-01]\n",
            " [9.96420383e-01]\n",
            " [5.70288777e-01]\n",
            " [1.24212205e-02]\n",
            " [3.80667090e-01]\n",
            " [9.69518304e-01]\n",
            " [9.99410033e-01]\n",
            " [9.85326350e-01]\n",
            " [4.54181850e-01]\n",
            " [7.06077337e-01]\n",
            " [9.72574234e-01]\n",
            " [1.39287710e-02]\n",
            " [3.07585566e-07]\n",
            " [3.84673029e-01]\n",
            " [8.79314363e-01]\n",
            " [3.54245007e-01]]\n"
          ],
          "name": "stdout"
        }
      ]
    },
    {
      "cell_type": "code",
      "metadata": {
        "id": "cPtgWmwkC3Pu",
        "colab_type": "code",
        "colab": {
          "base_uri": "https://localhost:8080/",
          "height": 153
        },
        "outputId": "fa37e849-be90-4745-f5c4-493dd2d83325"
      },
      "source": [
        "import numpy as np\n",
        "# Round array items to a default of 0 decimal points\n",
        "P = np.round(P).flatten()\n",
        "print(P)"
      ],
      "execution_count": 51,
      "outputs": [
        {
          "output_type": "stream",
          "text": [
            "[1. 1. 1. 0. 1. 0. 0. 1. 1. 1. 0. 0. 1. 0. 1. 1. 0. 0. 1. 1. 1. 1. 1. 0.\n",
            " 0. 1. 1. 1. 1. 0. 1. 0. 1. 1. 1. 1. 0. 1. 1. 1. 1. 1. 1. 1. 1. 1. 1. 1.\n",
            " 1. 1. 0. 1. 0. 1. 0. 1. 0. 1. 1. 1. 0. 1. 0. 1. 1. 1. 1. 1. 0. 1. 1. 1.\n",
            " 0. 1. 0. 1. 1. 0. 1. 1. 1. 1. 0. 0. 1. 1. 1. 1. 0. 1. 1. 1. 0. 1. 1. 0.\n",
            " 0. 1. 1. 1. 0. 1. 0. 0. 1. 1. 0. 1. 0. 0. 0. 1. 1. 1. 1. 1. 1. 0. 0. 1.\n",
            " 1. 0. 1. 1. 1. 0. 1. 1. 1. 0. 0. 1. 0. 0. 1. 1. 0. 1. 0. 1. 0. 1. 0. 0.\n",
            " 0. 0. 1. 0. 1. 1. 0. 0. 0. 0. 0. 1. 1. 1. 1. 1. 1. 1. 1. 1. 1. 1. 1. 0.\n",
            " 0. 0. 1. 1. 1. 1. 1. 0. 0. 1. 1. 1. 0. 1. 1. 0. 0. 0. 1. 0.]\n"
          ],
          "name": "stdout"
        }
      ]
    },
    {
      "cell_type": "code",
      "metadata": {
        "id": "verMJOmqC-s5",
        "colab_type": "code",
        "colab": {
          "base_uri": "https://localhost:8080/",
          "height": 34
        },
        "outputId": "01e41447-4055-4df7-c803-8b14f935acc2"
      },
      "source": [
        "print(\"Manually Calculated Accuracy=\", np.mean(P == y_test))"
      ],
      "execution_count": 52,
      "outputs": [
        {
          "output_type": "stream",
          "text": [
            "Manually Calculated Accuracy= 0.973404255319149\n"
          ],
          "name": "stdout"
        }
      ]
    },
    {
      "cell_type": "code",
      "metadata": {
        "id": "grzYhq5QDgYW",
        "colab_type": "code",
        "colab": {
          "base_uri": "https://localhost:8080/",
          "height": 51
        },
        "outputId": "bbd7e6f3-3717-4e84-b96a-e4b398807316"
      },
      "source": [
        "print(\"Evaluated Accuracy=\", model.evaluate(X_test, y_test))"
      ],
      "execution_count": 53,
      "outputs": [
        {
          "output_type": "stream",
          "text": [
            "6/6 [==============================] - 0s 1ms/step - loss: 0.1022 - accuracy: 0.9734\n",
            "Evaluated Accuracy= [0.10215065628290176, 0.9734042286872864]\n"
          ],
          "name": "stdout"
        }
      ]
    },
    {
      "cell_type": "code",
      "metadata": {
        "id": "uV93UcoWFGhy",
        "colab_type": "code",
        "colab": {}
      },
      "source": [
        "# Save model for sharing with Client\n",
        "model.save('Patient_Diagnosis_Of_Breast_Tissue_Prediction_Model.h5')"
      ],
      "execution_count": 54,
      "outputs": []
    },
    {
      "cell_type": "code",
      "metadata": {
        "id": "LySnkYfsF6ly",
        "colab_type": "code",
        "colab": {
          "base_uri": "https://localhost:8080/",
          "height": 68
        },
        "outputId": "5b588e76-8696-43c7-db4c-fd2896ac3950"
      },
      "source": [
        "!ls -lh"
      ],
      "execution_count": 55,
      "outputs": [
        {
          "output_type": "stream",
          "text": [
            "total 24K\n",
            "-rw-r--r-- 1 root root  18K Aug  1 03:47 Patient_Diagnosis_Of_Breast_Tissue_Prediction_Model.h5\n",
            "drwxr-xr-x 1 root root 4.0K Jul 30 16:30 sample_data\n"
          ],
          "name": "stdout"
        }
      ]
    },
    {
      "cell_type": "code",
      "metadata": {
        "id": "_ncsNz9JF_y8",
        "colab_type": "code",
        "colab": {}
      },
      "source": [
        "model = tf.keras.models.load_model(\"Patient_Diagnosis_Of_Breast_Tissue_Prediction_Model.h5\")"
      ],
      "execution_count": 56,
      "outputs": []
    },
    {
      "cell_type": "code",
      "metadata": {
        "id": "N4O2XtXfHG4P",
        "colab_type": "code",
        "colab": {
          "base_uri": "https://localhost:8080/",
          "height": 34
        },
        "outputId": "69c0b170-273f-4a0f-89dd-faef249c7ea2"
      },
      "source": [
        "print(model.layers)"
      ],
      "execution_count": 57,
      "outputs": [
        {
          "output_type": "stream",
          "text": [
            "[<tensorflow.python.keras.layers.core.Dense object at 0x7fc4922bdba8>]\n"
          ],
          "name": "stdout"
        }
      ]
    },
    {
      "cell_type": "code",
      "metadata": {
        "id": "aDnjn2piHK_C",
        "colab_type": "code",
        "colab": {
          "base_uri": "https://localhost:8080/",
          "height": 51
        },
        "outputId": "60b40105-dc8d-42dc-fa40-e45ad4901246"
      },
      "source": [
        "# Validate saved model (Clientside)\n",
        "model.evaluate(X_test, y_test)"
      ],
      "execution_count": 58,
      "outputs": [
        {
          "output_type": "stream",
          "text": [
            "6/6 [==============================] - 0s 1ms/step - loss: 0.1022 - accuracy: 0.9734\n"
          ],
          "name": "stdout"
        },
        {
          "output_type": "execute_result",
          "data": {
            "text/plain": [
              "[0.10215065628290176, 0.9734042286872864]"
            ]
          },
          "metadata": {
            "tags": []
          },
          "execution_count": 58
        }
      ]
    },
    {
      "cell_type": "code",
      "metadata": {
        "id": "wo51uVJhHUyY",
        "colab_type": "code",
        "colab": {
          "base_uri": "https://localhost:8080/",
          "height": 17
        },
        "outputId": "59948979-92d6-40e5-87b6-d1f2edc99854"
      },
      "source": [
        "# Download model from Google Colab\n",
        "from google.colab import files\n",
        "files.download(\"Patient_Diagnosis_Of_Breast_Tissue_Prediction_Model.h5\")"
      ],
      "execution_count": 50,
      "outputs": [
        {
          "output_type": "display_data",
          "data": {
            "application/javascript": [
              "\n",
              "    async function download(id, filename, size) {\n",
              "      if (!google.colab.kernel.accessAllowed) {\n",
              "        return;\n",
              "      }\n",
              "      const div = document.createElement('div');\n",
              "      const label = document.createElement('label');\n",
              "      label.textContent = `Downloading \"${filename}\": `;\n",
              "      div.appendChild(label);\n",
              "      const progress = document.createElement('progress');\n",
              "      progress.max = size;\n",
              "      div.appendChild(progress);\n",
              "      document.body.appendChild(div);\n",
              "\n",
              "      const buffers = [];\n",
              "      let downloaded = 0;\n",
              "\n",
              "      const channel = await google.colab.kernel.comms.open(id);\n",
              "      // Send a message to notify the kernel that we're ready.\n",
              "      channel.send({})\n",
              "\n",
              "      for await (const message of channel.messages) {\n",
              "        // Send a message to notify the kernel that we're ready.\n",
              "        channel.send({})\n",
              "        if (message.buffers) {\n",
              "          for (const buffer of message.buffers) {\n",
              "            buffers.push(buffer);\n",
              "            downloaded += buffer.byteLength;\n",
              "            progress.value = downloaded;\n",
              "          }\n",
              "        }\n",
              "      }\n",
              "      const blob = new Blob(buffers, {type: 'application/binary'});\n",
              "      const a = document.createElement('a');\n",
              "      a.href = window.URL.createObjectURL(blob);\n",
              "      a.download = filename;\n",
              "      div.appendChild(a);\n",
              "      a.click();\n",
              "      div.remove();\n",
              "    }\n",
              "  "
            ],
            "text/plain": [
              "<IPython.core.display.Javascript object>"
            ]
          },
          "metadata": {
            "tags": []
          }
        },
        {
          "output_type": "display_data",
          "data": {
            "application/javascript": [
              "download(\"download_b3c317b6-c79d-4e0b-a61a-1c3921fd6422\", \"Patient_Diagnosis_Of_Breast_Tissue_Prediction_Model.h5\", 18480)"
            ],
            "text/plain": [
              "<IPython.core.display.Javascript object>"
            ]
          },
          "metadata": {
            "tags": []
          }
        }
      ]
    },
    {
      "cell_type": "code",
      "metadata": {
        "id": "D9cNZhbbH8Sz",
        "colab_type": "code",
        "colab": {}
      },
      "source": [
        ""
      ],
      "execution_count": null,
      "outputs": []
    }
  ]
}